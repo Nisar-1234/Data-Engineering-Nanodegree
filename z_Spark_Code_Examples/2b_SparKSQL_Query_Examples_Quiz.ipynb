{
 "cells": [
  {
   "cell_type": "markdown",
   "metadata": {},
   "source": [
    "# Answer Key to the Data Wrangling with Spark SQL Quiz\n",
    "\n",
    "This quiz uses the same dataset and most of the same questions from the earlier \"Quiz - Data Wrangling with Data Frames Jupyter Notebook.\" For this quiz, however, use Spark SQL instead of Spark Data Frames.\n",
    "\n",
    "Helpful resources:\n",
    "http://spark.apache.org/docs/latest/api/python/pyspark.sql.html"
   ]
  },
  {
   "cell_type": "code",
   "execution_count": 2,
   "metadata": {},
   "outputs": [],
   "source": [
    "from pyspark.sql import SparkSession\n",
    "\n",
    "spark = SparkSession \\\n",
    "    .builder \\\n",
    "    .appName(\"Spark SQL Quiz\") \\\n",
    "    .getOrCreate()\n",
    "\n",
    "user_log = spark.read.json(\"data/sparkify_log_small.json\")"
   ]
  },
  {
   "cell_type": "code",
   "execution_count": 3,
   "metadata": {},
   "outputs": [
    {
     "name": "stdout",
     "output_type": "stream",
     "text": [
      "root\n",
      " |-- artist: string (nullable = true)\n",
      " |-- auth: string (nullable = true)\n",
      " |-- firstName: string (nullable = true)\n",
      " |-- gender: string (nullable = true)\n",
      " |-- itemInSession: long (nullable = true)\n",
      " |-- lastName: string (nullable = true)\n",
      " |-- length: double (nullable = true)\n",
      " |-- level: string (nullable = true)\n",
      " |-- location: string (nullable = true)\n",
      " |-- method: string (nullable = true)\n",
      " |-- page: string (nullable = true)\n",
      " |-- registration: long (nullable = true)\n",
      " |-- sessionId: long (nullable = true)\n",
      " |-- song: string (nullable = true)\n",
      " |-- status: long (nullable = true)\n",
      " |-- ts: long (nullable = true)\n",
      " |-- userAgent: string (nullable = true)\n",
      " |-- userId: string (nullable = true)\n",
      "\n"
     ]
    }
   ],
   "source": [
    "user_log.printSchema()"
   ]
  },
  {
   "cell_type": "code",
   "execution_count": 4,
   "metadata": {},
   "outputs": [],
   "source": [
    "# Create a view to run our queries on\n",
    "user_log.createOrReplaceTempView(\"log_table\")"
   ]
  },
  {
   "cell_type": "markdown",
   "metadata": {},
   "source": [
    "# Question 1\n",
    "\n",
    "Which page did user id \"\" (empty string) NOT visit?"
   ]
  },
  {
   "cell_type": "code",
   "execution_count": 6,
   "metadata": {
    "scrolled": true
   },
   "outputs": [
    {
     "name": "stdout",
     "output_type": "stream",
     "text": [
      "+----+----------------+\n",
      "|page|            page|\n",
      "+----+----------------+\n",
      "|null|Submit Downgrade|\n",
      "|null|       Downgrade|\n",
      "|null|          Logout|\n",
      "|null|   Save Settings|\n",
      "|null|        Settings|\n",
      "|null|        NextSong|\n",
      "|null|         Upgrade|\n",
      "|null|           Error|\n",
      "|null|  Submit Upgrade|\n",
      "+----+----------------+\n",
      "\n"
     ]
    }
   ],
   "source": [
    "# SELECT distinct pages for the blank user and distinc pages for all users\n",
    "# Right join the results to find pages that blank visitor did not visit\n",
    "spark.sql(\"\"\"\n",
    "          SELECT *\n",
    "          FROM (\n",
    "             SELECT DISTINCT page\n",
    "             FROM log_table\n",
    "             WHERE userID='') AS user_pages\n",
    "          RIGHT JOIN (\n",
    "             SELECT DISTINCT page\n",
    "             FROM log_table) AS all_pages\n",
    "          ON user_pages.page = all_pages.page\n",
    "          WHERE user_pages.page IS NULL\n",
    "          \"\"\"\n",
    "          ).show()"
   ]
  },
  {
   "cell_type": "markdown",
   "metadata": {},
   "source": [
    "## Question 2\n",
    "\n",
    "How many female users do we have in the data set?"
   ]
  },
  {
   "cell_type": "code",
   "execution_count": 7,
   "metadata": {},
   "outputs": [
    {
     "name": "stdout",
     "output_type": "stream",
     "text": [
      "+----------------------+\n",
      "|count(DISTINCT userID)|\n",
      "+----------------------+\n",
      "|                   462|\n",
      "+----------------------+\n",
      "\n"
     ]
    }
   ],
   "source": [
    "spark.sql(\"\"\"\n",
    "          SELECT COUNT(DISTINCT userID) \\\n",
    "          FROM log_table \\\n",
    "          WHERE gender = 'F'\n",
    "          \"\"\"\n",
    "          ).show()"
   ]
  },
  {
   "cell_type": "markdown",
   "metadata": {},
   "source": [
    "### Question 3\n",
    "\n",
    "How many songs were played from the most played artist?"
   ]
  },
  {
   "cell_type": "code",
   "execution_count": 9,
   "metadata": {},
   "outputs": [
    {
     "name": "stdout",
     "output_type": "stream",
     "text": [
      "+--------+-----+\n",
      "|  Artist|plays|\n",
      "+--------+-----+\n",
      "|Coldplay|   83|\n",
      "+--------+-----+\n",
      "\n",
      "+--------+-----+\n",
      "|  Artist|plays|\n",
      "+--------+-----+\n",
      "|Coldplay|   83|\n",
      "+--------+-----+\n",
      "\n"
     ]
    }
   ],
   "source": [
    "# Here is one solution\n",
    "spark.sql(\"\"\"\n",
    "          SELECT \n",
    "              Artist, \n",
    "              COUNT(Artist) AS plays\n",
    "          FROM log_table\n",
    "          GROUP BY Artist\n",
    "          ORDER BY plays DESC\n",
    "          LIMIT 1\n",
    "          \"\"\"\n",
    "          ).show()\n",
    "\n",
    "# Here is an alternative solution\n",
    "# Get the artist play counts\n",
    "play_counts = spark.sql(\"\"\"\n",
    "    SELECT \n",
    "        Artist,\n",
    "        COUNT(Artist) AS plays\n",
    "    FROM log_table\n",
    "    GROUP BY Artist\n",
    "    \"\"\"\n",
    "    )\n",
    "\n",
    "# Save the results in a new view\n",
    "play_counts.createOrReplaceTempView(\"artist_counts\")\n",
    "\n",
    "# Use a self join to find where the max play equals the count value\n",
    "spark.sql(\"\"\"SELECT \n",
    "                a2.Artist, \n",
    "                a2.plays \n",
    "             FROM\n",
    "                (SELECT \n",
    "                    max(plays) AS max_plays \n",
    "                 FROM artist_counts) AS a1\n",
    "             JOIN artist_counts AS a2\n",
    "             ON a1.max_plays = a2.plays\n",
    "             \"\"\"\n",
    "          ).show()"
   ]
  },
  {
   "cell_type": "markdown",
   "metadata": {},
   "source": [
    "# Question 4 (challenge)\n",
    "\n",
    "How many songs do users listen to on average between visiting our home page? Please round your answer to the closest integer."
   ]
  },
  {
   "cell_type": "code",
   "execution_count": 31,
   "metadata": {},
   "outputs": [
    {
     "name": "stdout",
     "output_type": "stream",
     "text": [
      "+------------------+\n",
      "|avg(count(period))|\n",
      "+------------------+\n",
      "| 6.898347107438017|\n",
      "+------------------+\n",
      "\n"
     ]
    }
   ],
   "source": [
    "# SELECT CASE WHEN 1 > 0 THEN 1 WHEN 2 > 0 THEN 2.0 ELSE 1.2 END;\n",
    "is_home = spark.sql(\"\"\"\n",
    "    SELECT \n",
    "        userID,\n",
    "        page,\n",
    "        ts, \n",
    "        CASE WHEN page = 'Home' THEN 1 ELSE 0 END AS is_home \n",
    "    FROM log_table\n",
    "    WHERE (page = 'NextSong') or (page = 'Home')\n",
    "    \"\"\"\n",
    "    )\n",
    "\n",
    "# keep the results in a new view\n",
    "is_home.createOrReplaceTempView(\"is_home_table\")\n",
    "\n",
    "# Find the cumulative sum over the is_home column\n",
    "cumulative_sum = spark.sql(\"\"\"\n",
    "    SELECT \n",
    "        *,\n",
    "        SUM(is_home) \n",
    "    OVER (PARTITION BY userID ORDER BY ts DESC ROWS BETWEEN UNBOUNDED PRECEDING AND CURRENT ROW) AS period \\\n",
    "    FROM is_home_table\n",
    "    \"\"\"\n",
    "    )\n",
    "\n",
    "# Keep the results in a view\n",
    "cumulative_sum.createOrReplaceTempView(\"period_table\")\n",
    "\n",
    "# Find the average count for NextSong\n",
    "spark.sql(\"\"\"\n",
    "          SELECT \n",
    "              AVG(count_results) \n",
    "          FROM \n",
    "              (SELECT \n",
    "                  COUNT(*) AS count_results \n",
    "               FROM period_table\n",
    "               GROUP BY userID, period, page HAVING page = 'NextSong') AS counts\n",
    "          \"\"\").show()"
   ]
  }
 ],
 "metadata": {
  "kernelspec": {
   "display_name": "Python 3",
   "language": "python",
   "name": "python3"
  },
  "language_info": {
   "codemirror_mode": {
    "name": "ipython",
    "version": 3
   },
   "file_extension": ".py",
   "mimetype": "text/x-python",
   "name": "python",
   "nbconvert_exporter": "python",
   "pygments_lexer": "ipython3",
   "version": "3.6.3"
  }
 },
 "nbformat": 4,
 "nbformat_minor": 2
}
